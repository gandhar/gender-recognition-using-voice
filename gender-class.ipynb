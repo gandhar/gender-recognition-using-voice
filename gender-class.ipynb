{
 "cells": [
  {
   "cell_type": "code",
   "execution_count": 41,
   "metadata": {
    "ExecuteTime": {
     "end_time": "2020-09-07T20:36:46.841364Z",
     "start_time": "2020-09-07T20:36:46.837282Z"
    }
   },
   "outputs": [],
   "source": [
    "import numpy as np\n",
    "import matplotlib.pyplot as plt\n",
    "import pandas as pd\n",
    "\n",
    "from sklearn.preprocessing import StandardScaler\n",
    "from sklearn.model_selection import train_test_split\n",
    "\n",
    "from sklearn.linear_model import LogisticRegression\n",
    "from sklearn.tree import DecisionTreeClassifier\n",
    "from sklearn.ensemble import RandomForestClassifier\n",
    "from xgboost import XGBClassifier \n",
    "\n",
    "import subprocess\n",
    "import os "
   ]
  },
  {
   "cell_type": "code",
   "execution_count": 47,
   "metadata": {
    "ExecuteTime": {
     "end_time": "2020-09-07T20:39:02.120523Z",
     "start_time": "2020-09-07T20:39:02.117561Z"
    }
   },
   "outputs": [],
   "source": [
    "preprop_test = False\n",
    "preprop_suppl = False "
   ]
  },
  {
   "cell_type": "code",
   "execution_count": 48,
   "metadata": {
    "ExecuteTime": {
     "end_time": "2020-09-07T20:39:02.936577Z",
     "start_time": "2020-09-07T20:39:02.931584Z"
    }
   },
   "outputs": [],
   "source": [
    "folder = os.path.join( os.getcwd(), 'test' ) \n",
    "test_out = os.path.join( os.getcwd(), 'test.csv')\n",
    "rscript_file= os.path.join( os.getcwd(), 'features.R')\n",
    "\n",
    "if preprop_test:\n",
    "    subprocess.call([\"Rscript\", rscript_file, folder,test_out],stdin=subprocess.PIPE, stdout=subprocess.PIPE,stderr=subprocess.STDOUT)\n",
    "    "
   ]
  },
  {
   "cell_type": "code",
   "execution_count": 37,
   "metadata": {
    "ExecuteTime": {
     "end_time": "2020-09-07T20:11:32.159265Z",
     "start_time": "2020-09-07T20:11:32.127820Z"
    }
   },
   "outputs": [
    {
     "name": "stdout",
     "output_type": "stream",
     "text": [
      "(277, 21) (125, 20)\n"
     ]
    },
    {
     "data": {
      "text/html": [
       "<div>\n",
       "<style scoped>\n",
       "    .dataframe tbody tr th:only-of-type {\n",
       "        vertical-align: middle;\n",
       "    }\n",
       "\n",
       "    .dataframe tbody tr th {\n",
       "        vertical-align: top;\n",
       "    }\n",
       "\n",
       "    .dataframe thead th {\n",
       "        text-align: right;\n",
       "    }\n",
       "</style>\n",
       "<table border=\"1\" class=\"dataframe\">\n",
       "  <thead>\n",
       "    <tr style=\"text-align: right;\">\n",
       "      <th></th>\n",
       "      <th>meanfreq</th>\n",
       "      <th>sd</th>\n",
       "      <th>median</th>\n",
       "      <th>Q25</th>\n",
       "      <th>Q75</th>\n",
       "      <th>IQR</th>\n",
       "      <th>skew</th>\n",
       "      <th>kurt</th>\n",
       "      <th>sp.ent</th>\n",
       "      <th>sfm</th>\n",
       "      <th>mode</th>\n",
       "      <th>centroid</th>\n",
       "      <th>meanfun</th>\n",
       "      <th>minfun</th>\n",
       "      <th>maxfun</th>\n",
       "      <th>meandom</th>\n",
       "      <th>mindom</th>\n",
       "      <th>maxdom</th>\n",
       "      <th>dfrange</th>\n",
       "      <th>modindx</th>\n",
       "    </tr>\n",
       "    <tr>\n",
       "      <th>sound.files</th>\n",
       "      <th></th>\n",
       "      <th></th>\n",
       "      <th></th>\n",
       "      <th></th>\n",
       "      <th></th>\n",
       "      <th></th>\n",
       "      <th></th>\n",
       "      <th></th>\n",
       "      <th></th>\n",
       "      <th></th>\n",
       "      <th></th>\n",
       "      <th></th>\n",
       "      <th></th>\n",
       "      <th></th>\n",
       "      <th></th>\n",
       "      <th></th>\n",
       "      <th></th>\n",
       "      <th></th>\n",
       "      <th></th>\n",
       "      <th></th>\n",
       "    </tr>\n",
       "  </thead>\n",
       "  <tbody>\n",
       "    <tr>\n",
       "      <th>CEO_F_XRX.wav</th>\n",
       "      <td>0.188060</td>\n",
       "      <td>0.060616</td>\n",
       "      <td>0.192284</td>\n",
       "      <td>0.168280</td>\n",
       "      <td>0.22344</td>\n",
       "      <td>0.055160</td>\n",
       "      <td>3.195981</td>\n",
       "      <td>21.594193</td>\n",
       "      <td>0.931335</td>\n",
       "      <td>0.527679</td>\n",
       "      <td>0.001000</td>\n",
       "      <td>0.188060</td>\n",
       "      <td>0.142097</td>\n",
       "      <td>0.047337</td>\n",
       "      <td>0.279070</td>\n",
       "      <td>0.674508</td>\n",
       "      <td>0.0</td>\n",
       "      <td>6.304688</td>\n",
       "      <td>6.304688</td>\n",
       "      <td>0.071972</td>\n",
       "    </tr>\n",
       "    <tr>\n",
       "      <th>CEO_M_ACM_20121204.wav</th>\n",
       "      <td>0.158859</td>\n",
       "      <td>0.064130</td>\n",
       "      <td>0.136024</td>\n",
       "      <td>0.116171</td>\n",
       "      <td>0.22224</td>\n",
       "      <td>0.106069</td>\n",
       "      <td>2.603506</td>\n",
       "      <td>12.043091</td>\n",
       "      <td>0.940926</td>\n",
       "      <td>0.547693</td>\n",
       "      <td>0.119521</td>\n",
       "      <td>0.158859</td>\n",
       "      <td>0.113010</td>\n",
       "      <td>0.043235</td>\n",
       "      <td>0.279114</td>\n",
       "      <td>0.323591</td>\n",
       "      <td>0.0</td>\n",
       "      <td>5.038770</td>\n",
       "      <td>5.038770</td>\n",
       "      <td>0.052861</td>\n",
       "    </tr>\n",
       "  </tbody>\n",
       "</table>\n",
       "</div>"
      ],
      "text/plain": [
       "                        meanfreq        sd    median       Q25      Q75  \\\n",
       "sound.files                                                               \n",
       "CEO_F_XRX.wav           0.188060  0.060616  0.192284  0.168280  0.22344   \n",
       "CEO_M_ACM_20121204.wav  0.158859  0.064130  0.136024  0.116171  0.22224   \n",
       "\n",
       "                             IQR      skew       kurt    sp.ent       sfm  \\\n",
       "sound.files                                                                 \n",
       "CEO_F_XRX.wav           0.055160  3.195981  21.594193  0.931335  0.527679   \n",
       "CEO_M_ACM_20121204.wav  0.106069  2.603506  12.043091  0.940926  0.547693   \n",
       "\n",
       "                            mode  centroid   meanfun    minfun    maxfun  \\\n",
       "sound.files                                                                \n",
       "CEO_F_XRX.wav           0.001000  0.188060  0.142097  0.047337  0.279070   \n",
       "CEO_M_ACM_20121204.wav  0.119521  0.158859  0.113010  0.043235  0.279114   \n",
       "\n",
       "                         meandom  mindom    maxdom   dfrange   modindx  \n",
       "sound.files                                                             \n",
       "CEO_F_XRX.wav           0.674508     0.0  6.304688  6.304688  0.071972  \n",
       "CEO_M_ACM_20121204.wav  0.323591     0.0  5.038770  5.038770  0.052861  "
      ]
     },
     "execution_count": 37,
     "metadata": {},
     "output_type": "execute_result"
    }
   ],
   "source": [
    "train = pd.read_csv(\"train.csv\")\n",
    "test = pd.read_csv(test_out,index_col='sound.files')\n",
    "\n",
    "print(train.shape,test.shape)\n",
    "test.head(2)"
   ]
  },
  {
   "cell_type": "code",
   "execution_count": 38,
   "metadata": {
    "ExecuteTime": {
     "end_time": "2020-09-07T20:11:32.510020Z",
     "start_time": "2020-09-07T20:11:32.495044Z"
    }
   },
   "outputs": [],
   "source": [
    "train.loc[train['label']==\"male\",'label'] = 0\n",
    "train.loc[train['label']==\"female\",'label'] = 1\n",
    "\n",
    "scaler = StandardScaler()\n",
    "scaler.fit(train.iloc[:,0:20])\n",
    "X_train = scaler.transform(train.iloc[:,0:20])\n",
    "X_test = scaler.transform(test.iloc[:,0:20])\n",
    "y_train = list(train['label'].values)"
   ]
  },
  {
   "cell_type": "code",
   "execution_count": 39,
   "metadata": {
    "ExecuteTime": {
     "end_time": "2020-09-07T20:11:34.471941Z",
     "start_time": "2020-09-07T20:11:34.241597Z"
    }
   },
   "outputs": [],
   "source": [
    "# LogisticRegression\n",
    "classifiers = {}\n",
    "\n",
    "classifiers['lr'] = LogisticRegression().fit(X_train, y_train)\n",
    "classifiers['dtree'] = DecisionTreeClassifier().fit(X_train, y_train)\n",
    "classifiers['rf'] = RandomForestClassifier().fit(X_train, y_train)\n",
    "classifiers['xgb'] = XGBClassifier().fit(X_train, y_train)\n",
    "\n",
    "for c in classifiers:\n",
    "    test[c+'_mprob'] = [ i[0] for i in classifiers[c].predict_proba(X_test) ] \n"
   ]
  },
  {
   "cell_type": "code",
   "execution_count": 40,
   "metadata": {
    "ExecuteTime": {
     "end_time": "2020-09-07T20:11:34.750878Z",
     "start_time": "2020-09-07T20:11:34.725391Z"
    }
   },
   "outputs": [
    {
     "data": {
      "text/html": [
       "<div>\n",
       "<style scoped>\n",
       "    .dataframe tbody tr th:only-of-type {\n",
       "        vertical-align: middle;\n",
       "    }\n",
       "\n",
       "    .dataframe tbody tr th {\n",
       "        vertical-align: top;\n",
       "    }\n",
       "\n",
       "    .dataframe thead th {\n",
       "        text-align: right;\n",
       "    }\n",
       "</style>\n",
       "<table border=\"1\" class=\"dataframe\">\n",
       "  <thead>\n",
       "    <tr style=\"text-align: right;\">\n",
       "      <th></th>\n",
       "      <th>meanfreq</th>\n",
       "      <th>sd</th>\n",
       "      <th>median</th>\n",
       "      <th>Q25</th>\n",
       "      <th>Q75</th>\n",
       "      <th>IQR</th>\n",
       "      <th>skew</th>\n",
       "      <th>kurt</th>\n",
       "      <th>sp.ent</th>\n",
       "      <th>sfm</th>\n",
       "      <th>...</th>\n",
       "      <th>maxfun</th>\n",
       "      <th>meandom</th>\n",
       "      <th>mindom</th>\n",
       "      <th>maxdom</th>\n",
       "      <th>dfrange</th>\n",
       "      <th>modindx</th>\n",
       "      <th>lr_mprob</th>\n",
       "      <th>dtree_mprob</th>\n",
       "      <th>rf_mprob</th>\n",
       "      <th>xgb_mprob</th>\n",
       "    </tr>\n",
       "    <tr>\n",
       "      <th>sound.files</th>\n",
       "      <th></th>\n",
       "      <th></th>\n",
       "      <th></th>\n",
       "      <th></th>\n",
       "      <th></th>\n",
       "      <th></th>\n",
       "      <th></th>\n",
       "      <th></th>\n",
       "      <th></th>\n",
       "      <th></th>\n",
       "      <th></th>\n",
       "      <th></th>\n",
       "      <th></th>\n",
       "      <th></th>\n",
       "      <th></th>\n",
       "      <th></th>\n",
       "      <th></th>\n",
       "      <th></th>\n",
       "      <th></th>\n",
       "      <th></th>\n",
       "      <th></th>\n",
       "    </tr>\n",
       "  </thead>\n",
       "  <tbody>\n",
       "    <tr>\n",
       "      <th>CEO_F_XRX.wav</th>\n",
       "      <td>0.188060</td>\n",
       "      <td>0.060616</td>\n",
       "      <td>0.192284</td>\n",
       "      <td>0.168280</td>\n",
       "      <td>0.22344</td>\n",
       "      <td>0.055160</td>\n",
       "      <td>3.195981</td>\n",
       "      <td>21.594193</td>\n",
       "      <td>0.931335</td>\n",
       "      <td>0.527679</td>\n",
       "      <td>...</td>\n",
       "      <td>0.279070</td>\n",
       "      <td>0.674508</td>\n",
       "      <td>0.0</td>\n",
       "      <td>6.304688</td>\n",
       "      <td>6.304688</td>\n",
       "      <td>0.071972</td>\n",
       "      <td>0.083875</td>\n",
       "      <td>0.0</td>\n",
       "      <td>0.02</td>\n",
       "      <td>0.001204</td>\n",
       "    </tr>\n",
       "    <tr>\n",
       "      <th>CEO_M_ACM_20121204.wav</th>\n",
       "      <td>0.158859</td>\n",
       "      <td>0.064130</td>\n",
       "      <td>0.136024</td>\n",
       "      <td>0.116171</td>\n",
       "      <td>0.22224</td>\n",
       "      <td>0.106069</td>\n",
       "      <td>2.603506</td>\n",
       "      <td>12.043091</td>\n",
       "      <td>0.940926</td>\n",
       "      <td>0.547693</td>\n",
       "      <td>...</td>\n",
       "      <td>0.279114</td>\n",
       "      <td>0.323591</td>\n",
       "      <td>0.0</td>\n",
       "      <td>5.038770</td>\n",
       "      <td>5.038770</td>\n",
       "      <td>0.052861</td>\n",
       "      <td>0.836356</td>\n",
       "      <td>1.0</td>\n",
       "      <td>0.87</td>\n",
       "      <td>0.940854</td>\n",
       "    </tr>\n",
       "  </tbody>\n",
       "</table>\n",
       "<p>2 rows × 24 columns</p>\n",
       "</div>"
      ],
      "text/plain": [
       "                        meanfreq        sd    median       Q25      Q75  \\\n",
       "sound.files                                                               \n",
       "CEO_F_XRX.wav           0.188060  0.060616  0.192284  0.168280  0.22344   \n",
       "CEO_M_ACM_20121204.wav  0.158859  0.064130  0.136024  0.116171  0.22224   \n",
       "\n",
       "                             IQR      skew       kurt    sp.ent       sfm  \\\n",
       "sound.files                                                                 \n",
       "CEO_F_XRX.wav           0.055160  3.195981  21.594193  0.931335  0.527679   \n",
       "CEO_M_ACM_20121204.wav  0.106069  2.603506  12.043091  0.940926  0.547693   \n",
       "\n",
       "                        ...    maxfun   meandom  mindom    maxdom   dfrange  \\\n",
       "sound.files             ...                                                   \n",
       "CEO_F_XRX.wav           ...  0.279070  0.674508     0.0  6.304688  6.304688   \n",
       "CEO_M_ACM_20121204.wav  ...  0.279114  0.323591     0.0  5.038770  5.038770   \n",
       "\n",
       "                         modindx  lr_mprob  dtree_mprob  rf_mprob  xgb_mprob  \n",
       "sound.files                                                                   \n",
       "CEO_F_XRX.wav           0.071972  0.083875          0.0      0.02   0.001204  \n",
       "CEO_M_ACM_20121204.wav  0.052861  0.836356          1.0      0.87   0.940854  \n",
       "\n",
       "[2 rows x 24 columns]"
      ]
     },
     "execution_count": 40,
     "metadata": {},
     "output_type": "execute_result"
    }
   ],
   "source": [
    "test.head(2)"
   ]
  },
  {
   "cell_type": "code",
   "execution_count": null,
   "metadata": {},
   "outputs": [],
   "source": []
  },
  {
   "cell_type": "code",
   "execution_count": null,
   "metadata": {},
   "outputs": [],
   "source": []
  },
  {
   "cell_type": "code",
   "execution_count": null,
   "metadata": {},
   "outputs": [],
   "source": []
  },
  {
   "cell_type": "code",
   "execution_count": null,
   "metadata": {},
   "outputs": [],
   "source": []
  }
 ],
 "metadata": {
  "kernelspec": {
   "display_name": "Python 3.7.5 64-bit ('venv': virtualenv)",
   "language": "python",
   "name": "python37564bitvenvvirtualenvd49dc751b18a4564af538a1d578fdfc9"
  },
  "language_info": {
   "codemirror_mode": {
    "name": "ipython",
    "version": 3
   },
   "file_extension": ".py",
   "mimetype": "text/x-python",
   "name": "python",
   "nbconvert_exporter": "python",
   "pygments_lexer": "ipython3",
   "version": "3.8.5"
  }
 },
 "nbformat": 4,
 "nbformat_minor": 4
}
